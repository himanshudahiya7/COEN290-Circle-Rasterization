{
 "cells": [
  {
   "cell_type": "code",
   "execution_count": 19,
   "metadata": {},
   "outputs": [
    {
     "data": {
      "image/png": "[encoded data removed]",
      "text/plain": [
       "<PIL.Image.Image image mode=RGB size=320x240 at 0x1F3BC33A860>"
      ]
     },
     "execution_count": 19,
     "metadata": {},
     "output_type": "execute_result"
    }
   ],
   "source": [
    "from PIL import Image\n",
    "\n",
    "img = Image.new('RGB', (320, 240))\n",
    "pixels = img.load()\n",
    "\n",
    "\n",
    "R = 40\n",
    "x = 0\n",
    "y = R\n",
    "d = (5/4) - R\n",
    "\n",
    "while (y>x):\n",
    "    pixels[100+x,100+y] = (255,0,0)\n",
    "    pixels[100+x,100-y] = (255,0,0)\n",
    "    pixels[100-x,100+y] = (255,0,0)\n",
    "    pixels[100-x,100-y] = (255,0,0)\n",
    "    pixels[100+y,100+x] = (255,0,0)\n",
    "    pixels[100-y,100-x] = (255,0,0)\n",
    "    pixels[100+y,100-x] = (255,0,0)\n",
    "    pixels[100-y,100+x] = (255,0,0)\n",
    "    if d<0:\n",
    "        x,y = x+1,y\n",
    "        d += 2*(x) + 3\n",
    "\n",
    "    if d>0:\n",
    "        pixels[x,y] = pixels[x+1,y-1]\n",
    "        x,y = x+1,y-1\n",
    "        d += 2*(x) - 2*(y) - 5\n",
    "    if y<x:\n",
    "        break\n",
    "\n",
    "def fill_point(x,y):\n",
    "    \n",
    "    if pixels[x,y] == (255,0,0):\n",
    "        return\n",
    "    pixels[x,y] = (255,0,0)\n",
    "    if inside_circle(x+1,y):\n",
    "        fill_point(x+1,y)\n",
    "    if inside_circle(x-1,y):\n",
    "        fill_point(x-1,y)\n",
    "    if inside_circle(x,y+1):\n",
    "        fill_point(x,y+1)\n",
    "    if inside_circle(x,y-1):\n",
    "        fill_point(x+1,y-1)\n",
    "\n",
    "def inside_circle(x,y):\n",
    "    return (x-100)**2 + (y-100)**2 - R**2 < 0\n",
    "\n",
    "#fill_point(100,100)\n",
    "\n",
    "R = 43\n",
    "x = 0\n",
    "y = R\n",
    "d = (5/4) - R\n",
    "\n",
    "while (y>x):\n",
    "    pixels[100+x,100+y] = (125,0,0)\n",
    "    pixels[100+x,100-y] = (125,0,0)\n",
    "    pixels[100-x,100+y] = (125,0,0)\n",
    "    pixels[100-x,100-y] = (125,0,0)\n",
    "    pixels[100+y,100+x] = (125,0,0)\n",
    "    pixels[100-y,100-x] = (125,0,0)\n",
    "    pixels[100+y,100-x] = (125,0,0)\n",
    "    pixels[100-y,100+x] = (125,0,0)\n",
    "    if d<0:\n",
    "        x,y = x+1,y\n",
    "        d += 2*(x) + 3\n",
    "\n",
    "    if d>0:\n",
    "        pixels[x,y] = pixels[x+1,y-1]\n",
    "        x,y = x+1,y-1\n",
    "        d += 2*(x) - 2*(y) - 5\n",
    "    if y<x:\n",
    "        break\n",
    "\n",
    "fill_point(100,100)\n",
    "\n",
    "img"
   ]
  },
  {
   "cell_type": "code",
   "execution_count": null,
   "metadata": {},
   "outputs": [],
   "source": []
  }
 ],
 "metadata": {
  "kernelspec": {
   "display_name": "Python 3",
   "language": "python",
   "name": "python3"
  },
  "language_info": {
   "codemirror_mode": {
    "name": "ipython",
    "version": 3
   },
   "file_extension": ".py",
   "mimetype": "text/x-python",
   "name": "python",
   "nbconvert_exporter": "python",
   "pygments_lexer": "ipython3",
   "version": "3.7.3"
  }
 },
 "nbformat": 4,
 "nbformat_minor": 2
}
